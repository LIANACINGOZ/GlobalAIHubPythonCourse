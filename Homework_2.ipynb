{
  "nbformat": 4,
  "nbformat_minor": 0,
  "metadata": {
    "colab": {
      "name": "Homework 2",
      "provenance": [],
      "authorship_tag": "ABX9TyN1tgLVm/LkunqQr5yRNFXh",
      "include_colab_link": true
    },
    "kernelspec": {
      "name": "python3",
      "display_name": "Python 3"
    }
  },
  "cells": [
    {
      "cell_type": "markdown",
      "metadata": {
        "id": "view-in-github",
        "colab_type": "text"
      },
      "source": [
        "<a href=\"https://colab.research.google.com/github/LIANACINGOZ/GlobalAIHubPythonCourse/blob/main/Homework_2.ipynb\" target=\"_parent\"><img src=\"https://colab.research.google.com/assets/colab-badge.svg\" alt=\"Open In Colab\"/></a>"
      ]
    },
    {
      "cell_type": "markdown",
      "metadata": {
        "id": "rAQSvbnCQuG3"
      },
      "source": [
        "Part 1"
      ]
    },
    {
      "cell_type": "code",
      "metadata": {
        "id": "GxjtV_NzOKdt",
        "colab": {
          "base_uri": "https://localhost:8080/"
        },
        "outputId": "b41c4cb0-05a9-4af4-e2e6-62afed549a0b"
      },
      "source": [
        "print(\"Login Page\")\r\n",
        "username = \"Liana\"\r\n",
        "password = \"lianacingoz\"\r\n",
        "\r\n",
        "x = input(\"Please enter your username:\")\r\n",
        "\r\n",
        "y = input(\"Please enter your password:\")\r\n",
        "\r\n",
        "if (username != x and password == y):\r\n",
        "  print(\"Invalid username!\")\r\n",
        "elif (username == x and password != y):\r\n",
        "  print(\"Invalid password!\")\r\n",
        "elif (username != x and password!= y):\r\n",
        "  print(\"Invalid username and password!\")\r\n",
        "else:\r\n",
        "  print(\"Login Successful!\")"
      ],
      "execution_count": 1,
      "outputs": [
        {
          "output_type": "stream",
          "text": [
            "Login Page\n",
            "Please enter your username:Liana\n",
            "Please enter your password:lianacingoz\n",
            "Login Successful!\n"
          ],
          "name": "stdout"
        }
      ]
    }
  ]
}