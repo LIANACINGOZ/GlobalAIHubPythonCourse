{
  "nbformat": 4,
  "nbformat_minor": 0,
  "metadata": {
    "colab": {
      "name": "Final Project",
      "provenance": [],
      "authorship_tag": "ABX9TyOzhAdVkrhpVGSQZpRgWXY6",
      "include_colab_link": true
    },
    "kernelspec": {
      "name": "python3",
      "display_name": "Python 3"
    }
  },
  "cells": [
    {
      "cell_type": "markdown",
      "metadata": {
        "id": "view-in-github",
        "colab_type": "text"
      },
      "source": [
        "<a href=\"https://colab.research.google.com/github/LIANACINGOZ/GlobalAIHubPythonCourse/blob/main/Final_Project.ipynb\" target=\"_parent\"><img src=\"https://colab.research.google.com/assets/colab-badge.svg\" alt=\"Open In Colab\"/></a>"
      ]
    },
    {
      "cell_type": "code",
      "metadata": {
        "colab": {
          "base_uri": "https://localhost:8080/"
        },
        "id": "xdvrtCGMPzeN",
        "outputId": "6f2f1496-e1e2-4fa0-cf5b-cf66e731144e"
      },
      "source": [
        "Manager = { \"name\" : \"Oscar\", \"age\" : 59, \"languages\" : \"English, Spanish, Mandarin\"}\r\n",
        "\r\n",
        "Employees = {\r\n",
        "    \"employee1\" : {\r\n",
        "       \"name\": \"Amy\",\r\n",
        "        \"age\": 26,\r\n",
        "        \"languages\": \"English, Turkish\"\r\n",
        "      },\r\n",
        "    \"employee2\" : {\r\n",
        "        \"name\": \"Robert\",\r\n",
        "        \"age\": 30,\r\n",
        "        \"languages\": \"English, French, German\"\r\n",
        "        },\r\n",
        "    \"employee3\" : {\r\n",
        "          \"name\": \"Lara\",\r\n",
        "          \"age\": 20,\r\n",
        "          \"languages\": \"English, Spanish\"\r\n",
        "       },\r\n",
        "    \"employee4\" : {\r\n",
        "          \"name\": \"Oliver\",\r\n",
        "          \"age\": 39,\r\n",
        "          \"languages\": \"English, Korean\"\r\n",
        "      }\r\n",
        "}\r\n",
        "print(Employees.get(\"employee1\").get(\"name\") + \":\")\r\n",
        "print(Employees.get(\"employee1\").get(\"languages\")) \r\n",
        "print(Employees.get(\"employee2\").get(\"name\") + \":\")\r\n",
        "print(Employees.get(\"employee2\").get(\"languages\"))\r\n",
        "print(Employees.get(\"employee3\").get(\"name\") + \":\")\r\n",
        "print(Employees.get(\"employee3\").get(\"languages\"))\r\n",
        "print(Employees.get(\"employee4\").get(\"name\") + \":\")\r\n",
        "print(Employees.get(\"employee4\").get(\"languages\"))"
      ],
      "execution_count": 80,
      "outputs": [
        {
          "output_type": "stream",
          "text": [
            "Amy:\n",
            "English, Turkish\n",
            "Robert:\n",
            "English, French, German\n",
            "Lara:\n",
            "English, Spanish\n",
            "Oliver:\n",
            "English, Korean\n"
          ],
          "name": "stdout"
        }
      ]
    },
    {
      "cell_type": "code",
      "metadata": {
        "id": "tWKDjfv3WnFg"
      },
      "source": [
        ""
      ],
      "execution_count": null,
      "outputs": []
    },
    {
      "cell_type": "code",
      "metadata": {
        "colab": {
          "base_uri": "https://localhost:8080/"
        },
        "id": "ahoD1JNBUgtr",
        "outputId": "fea613ff-ce3c-42cd-f77d-12c510a53374"
      },
      "source": [
        "class Manager:\r\n",
        "  def __init__(self, name, age, languages):\r\n",
        "    self.name = name\r\n",
        "    self.age = age\r\n",
        "    self.languages = languages\r\n",
        "m = Manager(\"Oscar\", \"59\", \"English, Spanish and Mandarin\")\r\n",
        "\r\n",
        "print(m.name + \", the manager of the company, speaks \" + m.languages + \".\")\r\n",
        "\r\n",
        "class Employees: \r\n",
        "  def __init__(self, name, age, languages):\r\n",
        "    self.name = name\r\n",
        "    self.age = age\r\n",
        "    self.languages = languages\r\n",
        "e1 = Employees(\"Amy\", \"26\", \"English and Turkish\")\r\n",
        "e2 = Employees(\"Robert\", \"30\", \"English, French and German\")\r\n",
        "e3 = Employees(\"Lara\", \"20\", \"English and Spanish\")\r\n",
        "e4 = Employees(\"Oliver\", \"39\", \"English and Korean\")\r\n",
        "\r\n",
        "print(e1.name + \" speaks \" + e1.languages + (\".\"))\r\n",
        "print(e2.name + \" speaks \" + e2.languages + (\".\"))\r\n",
        "print(e3.name + \" is the youngest employee in the company and she can speak \" + e3.languages + (\".\"))\r\n",
        "print(e4.name + \" speaks \" + e4.languages + (\".\"))"
      ],
      "execution_count": 82,
      "outputs": [
        {
          "output_type": "stream",
          "text": [
            "Oscar, the manager of the company, speaks English, Spanish and Mandarin.\n",
            "Amy speaks English and Turkish.\n",
            "Robert speaks English, French and German.\n",
            "Lara is the youngest employee in the company and she can speak English and Spanish.\n",
            "Oliver speaks English and Korean.\n"
          ],
          "name": "stdout"
        }
      ]
    }
  ]
}