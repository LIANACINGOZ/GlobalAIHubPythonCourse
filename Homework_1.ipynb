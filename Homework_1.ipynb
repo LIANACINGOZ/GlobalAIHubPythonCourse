{
  "nbformat": 4,
  "nbformat_minor": 0,
  "metadata": {
    "colab": {
      "name": "Homework 1",
      "provenance": [],
      "authorship_tag": "ABX9TyMkU1Kxi0ah27sOGDT7Pp15",
      "include_colab_link": true
    },
    "kernelspec": {
      "name": "python3",
      "display_name": "Python 3"
    }
  },
  "cells": [
    {
      "cell_type": "markdown",
      "metadata": {
        "id": "view-in-github",
        "colab_type": "text"
      },
      "source": [
        "<a href=\"https://colab.research.google.com/github/LIANACINGOZ/Liana-L.-Cing-z/blob/main/Homework_1.ipynb\" target=\"_parent\"><img src=\"https://colab.research.google.com/assets/colab-badge.svg\" alt=\"Open In Colab\"/></a>"
      ]
    },
    {
      "cell_type": "markdown",
      "metadata": {
        "id": "qn6g5QJWNDL4"
      },
      "source": [
        "Part 1"
      ]
    },
    {
      "cell_type": "code",
      "metadata": {
        "colab": {
          "base_uri": "https://localhost:8080/"
        },
        "id": "QWrNzxI8M7XX",
        "outputId": "31b3ff82-6e74-42c3-c03c-84c713fb160e"
      },
      "source": [
        "list = [1,2,3,4,5,6,7,8,9,10]\r\n",
        "list2 = [1,2,3,4,5]\r\n",
        "list3 = [6,7,8,9,10]\r\n",
        "list3.extend(list2)\r\n",
        "print(list3)"
      ],
      "execution_count": 1,
      "outputs": [
        {
          "output_type": "stream",
          "text": [
            "[6, 7, 8, 9, 10, 1, 2, 3, 4, 5]\n"
          ],
          "name": "stdout"
        }
      ]
    },
    {
      "cell_type": "markdown",
      "metadata": {
        "id": "x2J58_t8NGlg"
      },
      "source": [
        "Part 2"
      ]
    },
    {
      "cell_type": "code",
      "metadata": {
        "colab": {
          "base_uri": "https://localhost:8080/"
        },
        "id": "cX941_-_NGHZ",
        "outputId": "a2de02fd-b1f2-487b-eac4-0500f3dd56f0"
      },
      "source": [
        "n = 20\r\n",
        "numbers = [0,1,2,3,4,5,6,7,8,9,10,11,12,13,14,15,16,17,18,19,20]\r\n",
        "x = input(\"Please enter a single digit integer:\")\r\n",
        "print(\"You entered:\", x)\r\n",
        "numbers[0:21:2]"
      ],
      "execution_count": 2,
      "outputs": [
        {
          "output_type": "stream",
          "text": [
            "Please enter a single digit integer:5\n",
            "You entered: 5\n"
          ],
          "name": "stdout"
        },
        {
          "output_type": "execute_result",
          "data": {
            "text/plain": [
              "[0, 2, 4, 6, 8, 10, 12, 14, 16, 18, 20]"
            ]
          },
          "metadata": {
            "tags": []
          },
          "execution_count": 2
        }
      ]
    }
  ]
}