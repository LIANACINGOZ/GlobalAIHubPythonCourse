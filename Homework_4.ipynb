{
  "nbformat": 4,
  "nbformat_minor": 0,
  "metadata": {
    "colab": {
      "name": "Homework 4",
      "provenance": [],
      "authorship_tag": "ABX9TyMT8ONndErsOfmaW7kLzOAc",
      "include_colab_link": true
    },
    "kernelspec": {
      "name": "python3",
      "display_name": "Python 3"
    }
  },
  "cells": [
    {
      "cell_type": "markdown",
      "metadata": {
        "id": "view-in-github",
        "colab_type": "text"
      },
      "source": [
        "<a href=\"https://colab.research.google.com/github/LIANACINGOZ/GlobalAIHubPythonCourse/blob/main/Homework_4.ipynb\" target=\"_parent\"><img src=\"https://colab.research.google.com/assets/colab-badge.svg\" alt=\"Open In Colab\"/></a>"
      ]
    },
    {
      "cell_type": "code",
      "metadata": {
        "colab": {
          "base_uri": "https://localhost:8080/"
        },
        "id": "uqC2EYi2uBYG",
        "outputId": "c5e54304-cd3f-4c8c-c713-fcaf14629ee9"
      },
      "source": [
        "class Dogs ():\r\n",
        "    def __init__(self, species, name, colour, age):\r\n",
        "      self.species = species\r\n",
        "      self.name = name\r\n",
        "      self.colour = colour\r\n",
        "      self.age = age\r\n",
        "d = Dogs(\"Golden Retriever\", \"Daisy\", \"camel\", \"4\")\r\n",
        "print(d.name + \" is a \" + d.species + \" dog.\" + \" It has beautiful \" + d.colour + \" fur and is \" + d.age + \" years old.\")\r\n",
        "\r\n",
        "class Cats ():\r\n",
        "    def __init__(self, species, name, colour, age):\r\n",
        "      self.species = species\r\n",
        "      self.name = name\r\n",
        "      self.colour = colour\r\n",
        "      self.age = age\r\n",
        "\r\n",
        "c = Cats(\"cat\", \"Kitty\", \"black\", \"2\" )\r\n",
        "print(c.name + \" is a \" + c.colour + \" \" + c.species + \" that is \" + c.age + \" years old.\")\r\n",
        "\r\n",
        "class Animals ():\r\n",
        "  def __init__(self, species, colour, name, legs):\r\n",
        "    self.species = species\r\n",
        "    self.colour = colour\r\n",
        "    self.name = name\r\n",
        "    self.legs = legs\r\n",
        "\r\n",
        "r = Animals(\"rabbit\", \"white\", \"Bunny\", \"4\")\r\n",
        "s = Animals(\"snake\", \"green\", \"Python\", \"no legs\")\r\n",
        "k = Animals(\"koala\", \"black and white\", \"Cutie\", \"0\")\r\n",
        "m = Animals(\"monkey\", \"brown\", \"Chocolate\", \"2\")\r\n",
        "print(\"I have a \" + r.species + \" named \" + r.name + \" and it has \" + r.legs + \" legs.\")\r\n",
        "print(s.name + \" is a \" + s.colour + \" \" + s.species + \" and it has \" + s.legs + \".\")\r\n",
        "print(\"I really like \" + k.species + \"s so I adopted one and named it \" + k.name + \" because it is \" + k.colour + \" and so cute.\")\r\n",
        "print(\"I met a \" + m.species + \" at the zoo and named it \" + m.name + \" as it was \" + m.colour + \".\")"
      ],
      "execution_count": 77,
      "outputs": [
        {
          "output_type": "stream",
          "text": [
            "Daisy is a Golden Retriever dog. It has beautiful camel fur and is 4 years old.\n",
            "Kitty is a black cat that is 2 years old.\n",
            "I have a rabbit named Bunny and it has 4 legs.\n",
            "Python is a green snake and it has no legs.\n",
            "I really like koalas so I adopted one and named it Cutie because it is black and white and so cute.\n",
            "I met a monkey at the zoo and named it Chocolate as it was brown.\n"
          ],
          "name": "stdout"
        }
      ]
    }
  ]
}