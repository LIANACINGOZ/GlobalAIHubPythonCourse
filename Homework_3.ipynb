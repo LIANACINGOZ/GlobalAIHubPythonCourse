{
  "nbformat": 4,
  "nbformat_minor": 0,
  "metadata": {
    "colab": {
      "name": "Homework 3",
      "provenance": [],
      "authorship_tag": "ABX9TyP+nTlwBd5sU8zpj/P3Yvsq",
      "include_colab_link": true
    },
    "kernelspec": {
      "name": "python3",
      "display_name": "Python 3"
    }
  },
  "cells": [
    {
      "cell_type": "markdown",
      "metadata": {
        "id": "view-in-github",
        "colab_type": "text"
      },
      "source": [
        "<a href=\"https://colab.research.google.com/github/LIANACINGOZ/Liana-L.-Cing-z/blob/main/Homework_3.ipynb\" target=\"_parent\"><img src=\"https://colab.research.google.com/assets/colab-badge.svg\" alt=\"Open In Colab\"/></a>"
      ]
    },
    {
      "cell_type": "code",
      "metadata": {
        "id": "-DHzHHhgMRFo"
      },
      "source": [
        "lower = 0\r\n",
        "upper = 100\r\n",
        "\r\n",
        "print(\"Prime numbers between\", lower, \"and\", upper, \"are:\")\r\n",
        "\r\n",
        "for num in range(lower, upper + 1):\r\n",
        "  if num > 1:\r\n",
        "      for i in range(2,num):\r\n",
        "          if (num % i) == 0:\r\n",
        "             break\r\n",
        "      else:\r\n",
        "         print(num)"
      ],
      "execution_count": null,
      "outputs": []
    }
  ]
}